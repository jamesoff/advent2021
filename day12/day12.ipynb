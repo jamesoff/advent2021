{
 "cells": [
  {
   "cell_type": "code",
   "execution_count": null,
   "metadata": {},
   "outputs": [],
   "source": [
    "graph_list = \"\"\"start-A\n",
    "start-b\n",
    "A-c\n",
    "A-b\n",
    "b-d\n",
    "A-end\n",
    "b-end\"\"\"\n",
    "def create_graph(input: str) -> dict:\n",
    "    graph = {}\n",
    "    for item in input.splitlines():\n",
    "        item = item.strip()\n",
    "        left, right = item.split(\"-\")\n",
    "        if right in [\"start\"]:\n",
    "            right, left = left, right\n",
    "            print(f\"swapped {item} to {left}-{right}\")\n",
    "        if left in graph:\n",
    "            graph[left].append(right)\n",
    "        else:\n",
    "            graph[left] = [right]\n",
    "        if left == \"start\":\n",
    "            continue\n",
    "        if right not in [\"start\", \"end\"]:\n",
    "            if right in graph:\n",
    "                graph[right].append(left)\n",
    "            else:\n",
    "                graph[right] = [left]\n",
    "    return graph\n",
    "graph = create_graph(graph_list)\n",
    "print(graph)"
   ]
  },
  {
   "cell_type": "code",
   "execution_count": null,
   "metadata": {},
   "outputs": [],
   "source": [
    "from typing import List, Optional\n",
    "\n",
    "\n",
    "def find_path(graph: dict, start: str, end: str, path: Optional[List[str]] = None):\n",
    "    if path is None:\n",
    "        path = []\n",
    "    path = path + [start]\n",
    "    if start == end:\n",
    "        return path\n",
    "    if not start in graph:\n",
    "        return None\n",
    "    for node in graph[start]:\n",
    "        if node not in path:\n",
    "            newpath = find_path(graph, node, end, path)\n",
    "            if newpath:\n",
    "                return newpath\n",
    "    return None\n"
   ]
  },
  {
   "cell_type": "code",
   "execution_count": null,
   "metadata": {},
   "outputs": [],
   "source": [
    "find_path(graph, \"start\", \"end\")"
   ]
  },
  {
   "cell_type": "code",
   "execution_count": null,
   "metadata": {},
   "outputs": [],
   "source": [
    "def find_all_paths(graph: dict, start: str, end: str, path: Optional[List[str]] = None):\n",
    "    if path is None:\n",
    "        path = []\n",
    "    path = path + [start]\n",
    "    if start == end:\n",
    "        return [path]\n",
    "    if not start in graph:\n",
    "        return []\n",
    "    paths = []\n",
    "    for node in graph[start]:\n",
    "        if node not in path:\n",
    "            newpaths = find_all_paths(graph, node, end, path)\n",
    "            for newpath in newpaths:\n",
    "                paths.append(newpath)\n",
    "    return paths\n"
   ]
  },
  {
   "cell_type": "code",
   "execution_count": null,
   "metadata": {},
   "outputs": [],
   "source": [
    "find_all_paths(graph, \"start\", \"end\")"
   ]
  },
  {
   "cell_type": "code",
   "execution_count": null,
   "metadata": {},
   "outputs": [],
   "source": [
    "def find_all_paths_greedy(graph: dict, start: str, end: str, path: Optional[List[str]] = None):\n",
    "    if path is None:\n",
    "        path = []\n",
    "    path = path + [start]\n",
    "    if start == end:\n",
    "        return [path]\n",
    "    if not start in graph:\n",
    "        return []\n",
    "    paths = []\n",
    "    for node in graph[start]:\n",
    "        if node.isupper() or node not in path:\n",
    "            newpaths = find_all_paths_greedy(graph, node, end, path)\n",
    "            for newpath in newpaths:\n",
    "                paths.append(newpath)\n",
    "    return paths"
   ]
  },
  {
   "cell_type": "code",
   "execution_count": null,
   "metadata": {},
   "outputs": [],
   "source": [
    "from pprint import pprint\n",
    "paths = find_all_paths_greedy(graph, \"start\", \"end\")\n",
    "\n",
    "pprint(paths)\n",
    "print(len(paths))"
   ]
  },
  {
   "cell_type": "code",
   "execution_count": null,
   "metadata": {},
   "outputs": [],
   "source": [
    "sample = create_graph(\"\"\"dc-end\n",
    "HN-start\n",
    "start-kj\n",
    "dc-start\n",
    "dc-HN\n",
    "LN-dc\n",
    "HN-end\n",
    "kj-sa\n",
    "kj-HN\n",
    "kj-dc\"\"\")\n",
    "print(sample)\n",
    "paths = find_all_paths_greedy(sample, \"start\", \"end\")\n",
    "\n",
    "pprint(paths)\n",
    "print(len(paths))"
   ]
  },
  {
   "cell_type": "code",
   "execution_count": null,
   "metadata": {},
   "outputs": [],
   "source": [
    "large_sample = create_graph(\"\"\"fs-end\n",
    "he-DX\n",
    "fs-he\n",
    "start-DX\n",
    "pj-DX\n",
    "end-zg\n",
    "zg-sl\n",
    "zg-pj\n",
    "pj-he\n",
    "RW-he\n",
    "fs-DX\n",
    "pj-RW\n",
    "zg-RW\n",
    "start-pj\n",
    "he-WI\n",
    "zg-he\n",
    "pj-fs\n",
    "start-RW\"\"\")\n",
    "paths = find_all_paths_greedy(large_sample, \"start\", \"end\")\n",
    "pprint(paths)\n",
    "print(len(paths))"
   ]
  },
  {
   "cell_type": "code",
   "execution_count": null,
   "metadata": {},
   "outputs": [],
   "source": [
    "challenge1 = create_graph(\"\"\"xx-xh\n",
    "vx-qc\n",
    "cu-wf\n",
    "ny-LO\n",
    "cu-DR\n",
    "start-xx\n",
    "LO-vx\n",
    "cu-LO\n",
    "xx-cu\n",
    "cu-ny\n",
    "xh-start\n",
    "qc-DR\n",
    "vx-AP\n",
    "end-LO\n",
    "ny-DR\n",
    "vx-end\n",
    "DR-xx\n",
    "start-DR\n",
    "end-ny\n",
    "ny-xx\n",
    "xh-DR\n",
    "cu-xh\"\"\")\n",
    "paths = find_all_paths_greedy(challenge1, \"start\", \"end\")\n",
    "print(len(paths))"
   ]
  },
  {
   "cell_type": "code",
   "execution_count": null,
   "metadata": {},
   "outputs": [],
   "source": [
    "def allow_double(path: List[str], node: str) -> bool:\n",
    "    visits = {}\n",
    "    double_visit: Optional[str] = None\n",
    "    for cave in path:\n",
    "        if cave.islower():\n",
    "            if cave in visits:\n",
    "                visits[cave] += 1\n",
    "                if visits[cave] == 2:\n",
    "                    double_visit = cave\n",
    "            else:\n",
    "                visits[cave] = 1\n",
    "    if double_visit and visits.get(node, 0) == 1:\n",
    "        return False\n",
    "    if node == double_visit:\n",
    "        return False\n",
    "    return True\n",
    "    \n",
    "def find_all_paths_greedy_double(graph: dict, start: str, end: str, path: Optional[List[str]] = None):\n",
    "    if path is None:\n",
    "        path = []\n",
    "    path = path + [start]\n",
    "    if start == end:\n",
    "        return [path]\n",
    "    if not start in graph:\n",
    "        return []\n",
    "    paths = []\n",
    "    for node in graph[start]:\n",
    "        # print(f\"considering {node}, path is {path}\")\n",
    "        if node.isupper() or allow_double(path, node):\n",
    "            # print(f\"exploring {node}\")\n",
    "            newpaths = find_all_paths_greedy_double(graph, node, end, path)\n",
    "            for newpath in newpaths:\n",
    "                paths.append(newpath)\n",
    "    return paths"
   ]
  },
  {
   "cell_type": "code",
   "execution_count": null,
   "metadata": {},
   "outputs": [],
   "source": [
    "paths = find_all_paths_greedy_double(graph, \"start\", \"end\")\n",
    "pprint(paths)\n",
    "print(len(paths))"
   ]
  },
  {
   "cell_type": "code",
   "execution_count": null,
   "metadata": {},
   "outputs": [],
   "source": [
    "paths = find_all_paths_greedy_double(large_sample, \"start\", \"end\")\n",
    "print(len(paths))"
   ]
  },
  {
   "cell_type": "code",
   "execution_count": null,
   "metadata": {},
   "outputs": [],
   "source": [
    "paths = find_all_paths_greedy_double(challenge1, \"start\", \"end\")\n",
    "print(len(paths))"
   ]
  }
 ],
 "metadata": {
  "interpreter": {
   "hash": "cad69433ff55d3a9ba8cafa497ff016a91f929d28d5052f57e18a2c2b1a411df"
  },
  "kernelspec": {
   "display_name": "Python 3.9.4 64-bit ('3.9.4': pyenv)",
   "language": "python",
   "name": "python3"
  },
  "language_info": {
   "codemirror_mode": {
    "name": "ipython",
    "version": 3
   },
   "file_extension": ".py",
   "mimetype": "text/x-python",
   "name": "python",
   "nbconvert_exporter": "python",
   "pygments_lexer": "ipython3",
   "version": "3.9.4"
  },
  "orig_nbformat": 4
 },
 "nbformat": 4,
 "nbformat_minor": 2
}
